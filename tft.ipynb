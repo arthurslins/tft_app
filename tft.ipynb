{
 "cells": [
  {
   "cell_type": "code",
   "execution_count": 1,
   "metadata": {},
   "outputs": [],
   "source": [
    "import requests\n",
    "import json\n",
    "import pandas as pd\n",
    "import numpy as np\n",
    "from datetime import datetime, timedelta\n",
    "\n",
    "\n"
   ]
  },
  {
   "cell_type": "code",
   "execution_count": 2,
   "metadata": {},
   "outputs": [],
   "source": [
    "lista_chaa=requests.get(\"https://br1.api.riotgames.com/tft/league/v1/challenger?api_key=RGAPI-68951cc5-0345-4a6e-af85-d9e541ec159c\").json()\n",
    "lista_gm=requests.get(\"https://br1.api.riotgames.com/tft/league/v1/grandmaster?api_key=RGAPI-68951cc5-0345-4a6e-af85-d9e541ec159c\").json()\n",
    "\n",
    "lista_server=[\"BR1\",\"EUW1\",\"JP1\",\"KR\",\"NA1\"]"
   ]
  },
  {
   "cell_type": "code",
   "execution_count": 52,
   "metadata": {},
   "outputs": [],
   "source": [
    "server=\"BR1\"\n",
    "def criar(server):\n",
    "\n",
    "    lista_chaa=requests.get(f\"https://{server}.api.riotgames.com/tft/league/v1/challenger?api_key=RGAPI-68951cc5-0345-4a6e-af85-d9e541ec159c\").json()\n",
    "    lista_gm=requests.get(f\"https://{server}.api.riotgames.com/tft/league/v1/grandmaster?api_key=RGAPI-68951cc5-0345-4a6e-af85-d9e541ec159c\").json()\n",
    "    \n",
    "    nick=[]\n",
    "    for i in range(len(lista_chaa[\"entries\"])):\n",
    "        lista_chaa['entries'][i][\"summonerName\"]\n",
    "        nick.append(lista_chaa['entries'][i][\"summonerName\"])\n",
    "    lp=[]\n",
    "    for i in range(len(lista_chaa[\"entries\"])):\n",
    "        lista_chaa['entries'][i][\"leaguePoints\"]\n",
    "        lp.append(lista_chaa['entries'][i][\"leaguePoints\"])\n",
    "    \n",
    "    df=pd.DataFrame(lp,nick).reset_index().rename(columns={\"index\":\"nick\",0:\"lp\"})\n",
    "    df=df.sort_values(\"lp\",ascending=False).reset_index(drop=True)  \n",
    "    \n",
    "    nick=[]\n",
    "    for i in range(len(lista_gm[\"entries\"])):\n",
    "        lista_gm['entries'][i][\"summonerName\"]\n",
    "        nick.append(lista_gm['entries'][i][\"summonerName\"])\n",
    "    lp=[]\n",
    "    for i in range(len(lista_gm[\"entries\"])):\n",
    "        lista_gm['entries'][i][\"leaguePoints\"]\n",
    "        lp.append(lista_gm['entries'][i][\"leaguePoints\"])\n",
    "\n",
    "    df1=pd.DataFrame(lp,nick).reset_index().rename(columns={\"index\":\"nick\",0:\"lp\"})\n",
    "    df1=df1.sort_values(\"lp\",ascending=False).reset_index(drop=True)\n",
    "    \n",
    "    dff=df.append(df1).reset_index(drop=True)\n",
    "    return dff"
   ]
  },
  {
   "cell_type": "code",
   "execution_count": 58,
   "metadata": {},
   "outputs": [],
   "source": [
    "for server in lista_server:\n",
    "    df=criar(server)\n",
    "    df.to_csv(f\"dia_ant{server}.csv\")"
   ]
  },
  {
   "cell_type": "code",
   "execution_count": 71,
   "metadata": {},
   "outputs": [],
   "source": [
    "def day():\n",
    "    for server in lista_server:\n",
    "        df=criar(server)\n",
    "        dia_ant = pd.read_csv(f\"dia_ant{server}.csv\")\n",
    "        parcial = df.set_index('nick').subtract(dia_ant.set_index('nick'), fill_value=0).reset_index()\n",
    "        parcial.to_csv(f\"parcial{server}.csv\")\n",
    "        \n",
    "    dia_ant=df\n",
    "    return dia_ant\n",
    "    "
   ]
  },
  {
   "cell_type": "code",
   "execution_count": 75,
   "metadata": {},
   "outputs": [
    {
     "data": {
      "text/plain": [
       "Every 1 day at 23:00:00 do day() (last run: [never], next run: 2021-11-22 23:00:00)"
      ]
     },
     "execution_count": 75,
     "metadata": {},
     "output_type": "execute_result"
    }
   ],
   "source": [
    "import schedule\n",
    "import time\n",
    "\n",
    "schedule.every().day.at(\"23:00\").do(day)"
   ]
  },
  {
   "cell_type": "code",
   "execution_count": null,
   "metadata": {},
   "outputs": [],
   "source": [
    "while 1:\n",
    "    schedule.run_pending()\n",
    "    time.sleep(1)"
   ]
  }
 ],
 "metadata": {
  "interpreter": {
   "hash": "16f8755b6db9cd6f3471dde68966196c6b620b8786bc144806187fd938d2d870"
  },
  "kernelspec": {
   "display_name": "Python 3.8.8 64-bit ('base': conda)",
   "name": "python3"
  },
  "language_info": {
   "codemirror_mode": {
    "name": "ipython",
    "version": 3
   },
   "file_extension": ".py",
   "mimetype": "text/x-python",
   "name": "python",
   "nbconvert_exporter": "python",
   "pygments_lexer": "ipython3",
   "version": "3.8.8"
  },
  "orig_nbformat": 4
 },
 "nbformat": 4,
 "nbformat_minor": 2
}
